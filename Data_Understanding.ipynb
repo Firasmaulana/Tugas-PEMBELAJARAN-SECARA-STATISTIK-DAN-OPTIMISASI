{
 "cells": [
  {
   "cell_type": "code",
   "execution_count": 109,
   "id": "bfc2806d",
   "metadata": {},
   "outputs": [],
   "source": [
    "import pandas as pd\n",
    "import numpy as np\n",
    "file='epl-goalScorer(20-21).csv'\n",
    "isifile=pd.read_csv(file)"
   ]
  },
  {
   "cell_type": "code",
   "execution_count": 110,
   "id": "783438e5",
   "metadata": {},
   "outputs": [
    {
     "data": {
      "text/plain": [
       "<bound method NDFrame.head of      Unnamed: 0    id             player_name  games  time  goals         xG  \\\n",
       "0             0   647              Harry Kane     35  3097     23  22.174859   \n",
       "1             1  1250           Mohamed Salah     37  3085     22  20.250847   \n",
       "2             2  1228         Bruno Fernandes     37  3117     18  16.019454   \n",
       "3             3   453           Son Heung-Min     37  3139     17  11.023287   \n",
       "4             4   822         Patrick Bamford     38  3085     17  18.401863   \n",
       "..          ...   ...                     ...    ...   ...    ...        ...   \n",
       "517         517  9415  Jaden Philogene-Bidace      1     1      0   0.000000   \n",
       "518         518  9423         Gaetano Berardi      2   113      0   0.074761   \n",
       "519         519  9524          Anthony Elanga      1    67      0   0.000000   \n",
       "520         520  9540             Femi Seriki      1     1      0   0.000000   \n",
       "521         521  9552         Tyrese Francois      1    13      0   0.000000   \n",
       "\n",
       "     assists         xA  shots  key_passes  yellow_cards  red_cards position  \\\n",
       "0         14   7.577094    138          49             1          0        F   \n",
       "1          5   6.528526    126          55             0          0    F M S   \n",
       "2         12  11.474996    121          95             6          0      M S   \n",
       "3         10   9.512992     68          75             0          0    F M S   \n",
       "4          7   3.782247    107          30             3          0      F S   \n",
       "..       ...        ...    ...         ...           ...        ...      ...   \n",
       "517        0   0.000000      0           0             0          0        S   \n",
       "518        0   0.000000      1           0             0          0      D S   \n",
       "519        0   0.000000      0           0             0          0        M   \n",
       "520        0   0.000000      0           0             0          0        S   \n",
       "521        0   0.000000      0           0             0          0        S   \n",
       "\n",
       "            team_title  npg       npxG    xGChain  xGBuildup  \n",
       "0            Tottenham   19  19.130183  24.995648   4.451257  \n",
       "1            Liverpool   16  15.683834  28.968234   9.800236  \n",
       "2    Manchester United    9   8.407840  26.911412  11.932285  \n",
       "3            Tottenham   16  10.262118  20.671916   6.608751  \n",
       "4                Leeds   15  16.879525  23.394953   4.131796  \n",
       "..                 ...  ...        ...        ...        ...  \n",
       "517        Aston Villa    0   0.000000   0.056044   0.056044  \n",
       "518              Leeds    0   0.074761   0.231278   0.231278  \n",
       "519  Manchester United    0   0.000000   0.000000   0.000000  \n",
       "520   Sheffield United    0   0.000000   0.000000   0.000000  \n",
       "521             Fulham    0   0.000000   0.000000   0.000000  \n",
       "\n",
       "[522 rows x 19 columns]>"
      ]
     },
     "execution_count": 110,
     "metadata": {},
     "output_type": "execute_result"
    }
   ],
   "source": [
    "isifile.head"
   ]
  },
  {
   "cell_type": "code",
   "execution_count": 111,
   "id": "2abd0cf3",
   "metadata": {},
   "outputs": [
    {
     "name": "stdout",
     "output_type": "stream",
     "text": [
      "Unnamed: 0        int64\n",
      "id                int64\n",
      "player_name      object\n",
      "games             int64\n",
      "time              int64\n",
      "goals             int64\n",
      "xG              float64\n",
      "assists           int64\n",
      "xA              float64\n",
      "shots             int64\n",
      "key_passes        int64\n",
      "yellow_cards      int64\n",
      "red_cards         int64\n",
      "position         object\n",
      "team_title       object\n",
      "npg               int64\n",
      "npxG            float64\n",
      "xGChain         float64\n",
      "xGBuildup       float64\n",
      "dtype: object\n"
     ]
    }
   ],
   "source": [
    "print(isifile.dtypes)"
   ]
  },
  {
   "cell_type": "code",
   "execution_count": 112,
   "id": "c4195094",
   "metadata": {},
   "outputs": [],
   "source": [
    "import pandas as pd\n",
    "import numpy as np\n",
    "file='epl-goalScorer(20-21).csv'\n",
    "isifile=pd.read_csv(file)\n",
    "df_noid=isifile.iloc[:,2:]"
   ]
  },
  {
   "cell_type": "code",
   "execution_count": 113,
   "id": "fa6d050a",
   "metadata": {},
   "outputs": [
    {
     "data": {
      "text/plain": [
       "0      23\n",
       "1      22\n",
       "2      18\n",
       "3      17\n",
       "4      17\n",
       "       ..\n",
       "517     0\n",
       "518     0\n",
       "519     0\n",
       "520     0\n",
       "521     0\n",
       "Name: goals, Length: 522, dtype: int64"
      ]
     },
     "execution_count": 113,
     "metadata": {},
     "output_type": "execute_result"
    }
   ],
   "source": [
    "q1=df_noid['goals'].quantile(0.25)\n",
    "q3=df_noid['goals'].quantile(0.75)\n",
    "iqr=q3-q1\n",
    "iqr\n",
    "df_noid['goals']"
   ]
  },
  {
   "cell_type": "markdown",
   "id": "a920c61b",
   "metadata": {},
   "source": [
    "Tugas no 1"
   ]
  },
  {
   "cell_type": "code",
   "execution_count": 114,
   "id": "86020bf7",
   "metadata": {},
   "outputs": [
    {
     "data": {
      "text/html": [
       "<div>\n",
       "<style scoped>\n",
       "    .dataframe tbody tr th:only-of-type {\n",
       "        vertical-align: middle;\n",
       "    }\n",
       "\n",
       "    .dataframe tbody tr th {\n",
       "        vertical-align: top;\n",
       "    }\n",
       "\n",
       "    .dataframe thead th {\n",
       "        text-align: right;\n",
       "    }\n",
       "</style>\n",
       "<table border=\"1\" class=\"dataframe\">\n",
       "  <thead>\n",
       "    <tr style=\"text-align: right;\">\n",
       "      <th></th>\n",
       "      <th>player_name</th>\n",
       "      <th>goals</th>\n",
       "    </tr>\n",
       "  </thead>\n",
       "  <tbody>\n",
       "    <tr>\n",
       "      <th>0</th>\n",
       "      <td>Harry Kane</td>\n",
       "      <td>23</td>\n",
       "    </tr>\n",
       "    <tr>\n",
       "      <th>1</th>\n",
       "      <td>Mohamed Salah</td>\n",
       "      <td>22</td>\n",
       "    </tr>\n",
       "    <tr>\n",
       "      <th>2</th>\n",
       "      <td>Bruno Fernandes</td>\n",
       "      <td>18</td>\n",
       "    </tr>\n",
       "    <tr>\n",
       "      <th>3</th>\n",
       "      <td>Son Heung-Min</td>\n",
       "      <td>17</td>\n",
       "    </tr>\n",
       "    <tr>\n",
       "      <th>4</th>\n",
       "      <td>Patrick Bamford</td>\n",
       "      <td>17</td>\n",
       "    </tr>\n",
       "    <tr>\n",
       "      <th>5</th>\n",
       "      <td>Dominic Calvert-Lewin</td>\n",
       "      <td>16</td>\n",
       "    </tr>\n",
       "    <tr>\n",
       "      <th>6</th>\n",
       "      <td>Jamie Vardy</td>\n",
       "      <td>15</td>\n",
       "    </tr>\n",
       "    <tr>\n",
       "      <th>7</th>\n",
       "      <td>Ollie Watkins</td>\n",
       "      <td>14</td>\n",
       "    </tr>\n",
       "    <tr>\n",
       "      <th>8</th>\n",
       "      <td>Ilkay Gündogan</td>\n",
       "      <td>13</td>\n",
       "    </tr>\n",
       "    <tr>\n",
       "      <th>9</th>\n",
       "      <td>Alexandre Lacazette</td>\n",
       "      <td>13</td>\n",
       "    </tr>\n",
       "    <tr>\n",
       "      <th>10</th>\n",
       "      <td>Callum Wilson</td>\n",
       "      <td>12</td>\n",
       "    </tr>\n",
       "  </tbody>\n",
       "</table>\n",
       "</div>"
      ],
      "text/plain": [
       "              player_name  goals\n",
       "0              Harry Kane     23\n",
       "1           Mohamed Salah     22\n",
       "2         Bruno Fernandes     18\n",
       "3           Son Heung-Min     17\n",
       "4         Patrick Bamford     17\n",
       "5   Dominic Calvert-Lewin     16\n",
       "6             Jamie Vardy     15\n",
       "7           Ollie Watkins     14\n",
       "8          Ilkay Gündogan     13\n",
       "9     Alexandre Lacazette     13\n",
       "10          Callum Wilson     12"
      ]
     },
     "execution_count": 114,
     "metadata": {},
     "output_type": "execute_result"
    }
   ],
   "source": [
    "iso=(df_noid['goals']<q1-1.5*iqr)|(df_noid['goals']>q3+1.5*iqr)\n",
    "iseo=(df_noid['goals']<q1-3*iqr)|(df_noid['goals']<q3+3*iqr)\n",
    "df1=df_noid[['player_name','goals']]\n",
    "df1.iloc[:, :11].head(11)\n",
    "\n"
   ]
  },
  {
   "cell_type": "markdown",
   "id": "ae9d384b",
   "metadata": {},
   "source": [
    "Tugas no 2"
   ]
  },
  {
   "cell_type": "code",
   "execution_count": 115,
   "id": "778206a9",
   "metadata": {},
   "outputs": [
    {
     "name": "stdout",
     "output_type": "stream",
     "text": [
      "               player_name  time\n",
      "296            Hugo Lloris  3420\n",
      "378      Emiliano Martinez  3420\n",
      "311      Kasper Schmeichel  3420\n",
      "110  Pierre-Emile Højbjerg  3420\n",
      "40           Stuart Dallas  3412\n",
      "327           Matt Targett  3407\n",
      "480            Luke Ayling  3400\n",
      "204       Andrew Robertson  3391\n",
      "55         Youri Tielemans  3359\n",
      "7            Ollie Watkins  3330\n",
      "390         Aaron Ramsdale  3330\n"
     ]
    }
   ],
   "source": [
    "q1 = df_noid['time'].quantile(0.25)\n",
    "q3 = df_noid['time'].quantile(0.75)\n",
    "iqr = q3 - q1\n",
    "\n",
    "iso = (df_noid['time'] < q1 - 1.5 * iqr) | (df_noid['time'] > q3 + 1.5 * iqr)\n",
    "iseo = (df_noid['time'] < q1 - 3 * iqr) | (df_noid['time'] < q3 + 3 * iqr)\n",
    "\n",
    "df3 = df_noid[['player_name', 'time']]\n",
    "\n",
    "df3_sorted = df3.sort_values(by='time', ascending=False)\n",
    "print(df3_sorted.head(11))\n"
   ]
  },
  {
   "cell_type": "markdown",
   "id": "170d486d",
   "metadata": {},
   "source": [
    "Tugas no 3"
   ]
  },
  {
   "cell_type": "code",
   "execution_count": 116,
   "id": "32c59cbb",
   "metadata": {},
   "outputs": [
    {
     "name": "stdout",
     "output_type": "stream",
     "text": [
      "         player_name  assists\n",
      "0         Harry Kane       14\n",
      "2    Bruno Fernandes       12\n",
      "58   Kevin De Bruyne       11\n",
      "3      Son Heung-Min       10\n",
      "51     Jack Grealish       10\n",
      "15   Marcus Rashford        9\n",
      "6        Jamie Vardy        9\n",
      "57          Raphinha        9\n",
      "49       Timo Werner        8\n",
      "281  Aaron Cresswell        8\n",
      "83       Pascal Groß        8\n"
     ]
    }
   ],
   "source": [
    "q1 = df_noid['assists'].quantile(0.25)\n",
    "q3 = df_noid['assists'].quantile(0.75)\n",
    "iqr = q3 - q1\n",
    "\n",
    "iso = (df_noid['assists'] < q1 - 1.5 * iqr) | (df_noid['assists'] > q3 + 1.5 * iqr)\n",
    "iseo = (df_noid['assists'] < q1 - 3 * iqr) | (df_noid['assists'] < q3 + 3 * iqr)\n",
    "\n",
    "df3 = df_noid[['player_name', 'assists']]\n",
    "\n",
    "df3_sorted = df3.sort_values(by='assists', ascending=False)\n",
    "print(df3_sorted.head(11))\n"
   ]
  },
  {
   "cell_type": "markdown",
   "id": "b0125d43",
   "metadata": {},
   "source": [
    "Tugas no 4"
   ]
  },
  {
   "cell_type": "code",
   "execution_count": 124,
   "id": "8623c8e8",
   "metadata": {},
   "outputs": [
    {
     "name": "stdout",
     "output_type": "stream",
     "text": [
      "        player_name  goals\n",
      "8    Ilkay Gündogan     13\n",
      "22  Raheem Sterling     10\n",
      "28     Riyad Mahrez      9\n",
      "35    Gabriel Jesus      8\n"
     ]
    }
   ],
   "source": [
    "df_manchester_City = df_noid[df_noid['team_title'] == 'Manchester City']\n",
    "df_manchester_City_sorted = df_manchester_City.sort_values(by='goals', ascending=False)\n",
    "print(df_manchester_City_sorted[['player_name', 'goals']].head(4))"
   ]
  },
  {
   "cell_type": "markdown",
   "id": "59dfca2a",
   "metadata": {},
   "source": [
    "Tugas no 5"
   ]
  },
  {
   "cell_type": "code",
   "execution_count": 118,
   "id": "745b634b",
   "metadata": {},
   "outputs": [
    {
     "name": "stdout",
     "output_type": "stream",
     "text": [
      "team_title\n",
      "Manchester City    77\n",
      "Name: goals, dtype: int64\n"
     ]
    }
   ],
   "source": [
    "df_goals_by_team = df_noid.groupby('team_title')['goals'].sum()\n",
    "\n",
    "df_goals_by_team_sorted = df_goals_by_team.sort_values(ascending=False)\n",
    "\n",
    "print(df_goals_by_team_sorted.head(1))"
   ]
  },
  {
   "cell_type": "markdown",
   "id": "471a9569",
   "metadata": {},
   "source": [
    "Tugas no 6"
   ]
  },
  {
   "cell_type": "code",
   "execution_count": 119,
   "id": "6f8cfc8c",
   "metadata": {},
   "outputs": [
    {
     "name": "stdout",
     "output_type": "stream",
     "text": [
      "         player_name  assists  red_cards  yellow_cards\n",
      "0         Harry Kane       14          0             1\n",
      "2    Bruno Fernandes       12          0             6\n",
      "58   Kevin De Bruyne       11          0             1\n",
      "3      Son Heung-Min       10          0             0\n",
      "51     Jack Grealish       10          0             5\n",
      "15   Marcus Rashford        9          0             4\n",
      "6        Jamie Vardy        9          0             1\n",
      "57          Raphinha        9          0             3\n",
      "49       Timo Werner        8          0             2\n",
      "281  Aaron Cresswell        8          0             3\n",
      "83       Pascal Groß        8          0             3\n"
     ]
    },
    {
     "name": "stderr",
     "output_type": "stream",
     "text": [
      "C:\\Users\\ASUS\\AppData\\Local\\Temp\\ipykernel_2512\\4208434503.py:9: SettingWithCopyWarning: \n",
      "A value is trying to be set on a copy of a slice from a DataFrame.\n",
      "Try using .loc[row_indexer,col_indexer] = value instead\n",
      "\n",
      "See the caveats in the documentation: https://pandas.pydata.org/pandas-docs/stable/user_guide/indexing.html#returning-a-view-versus-a-copy\n",
      "  df3['red_cards'] = df_noid['red_cards']\n",
      "C:\\Users\\ASUS\\AppData\\Local\\Temp\\ipykernel_2512\\4208434503.py:10: SettingWithCopyWarning: \n",
      "A value is trying to be set on a copy of a slice from a DataFrame.\n",
      "Try using .loc[row_indexer,col_indexer] = value instead\n",
      "\n",
      "See the caveats in the documentation: https://pandas.pydata.org/pandas-docs/stable/user_guide/indexing.html#returning-a-view-versus-a-copy\n",
      "  df3['yellow_cards'] = df_noid['yellow_cards']\n"
     ]
    }
   ],
   "source": [
    "q1 = df_noid['assists'].quantile(0.25)\n",
    "q3 = df_noid['assists'].quantile(0.75)\n",
    "iqr = q3 - q1\n",
    "\n",
    "iso = (df_noid['assists'] < q1 - 1.5 * iqr) | (df_noid['assists'] > q3 + 1.5 * iqr)\n",
    "iseo = (df_noid['assists'] < q1 - 3 * iqr) | (df_noid['assists'] < q3 + 3 * iqr)\n",
    "\n",
    "df3 = df_noid[['player_name', 'assists']]\n",
    "df3['red_cards'] = df_noid['red_cards']\n",
    "df3['yellow_cards'] = df_noid['yellow_cards']\n",
    "df3_sorted = df3.sort_values(by='assists', ascending=False)\n",
    "print(df3_sorted.head(11))\n"
   ]
  },
  {
   "cell_type": "markdown",
   "id": "6f56827d",
   "metadata": {},
   "source": [
    "Tugas no 7"
   ]
  },
  {
   "cell_type": "code",
   "execution_count": 120,
   "id": "51699fa3",
   "metadata": {},
   "outputs": [
    {
     "name": "stdout",
     "output_type": "stream",
     "text": [
      "             goals  assists team_title\n",
      "player_name                           \n",
      "Harry Kane      23       14  Tottenham\n"
     ]
    }
   ],
   "source": [
    "df_player_stats = df_noid.groupby('player_name').agg({'goals': 'sum', 'assists': 'sum', 'team_title': 'first'})\n",
    "df_player_stats_sorted = df_player_stats.sort_values(by=['goals', 'assists'], ascending=False)\n",
    "most_goals_and_assists_player = df_player_stats_sorted.head(1)\n",
    "print(most_goals_and_assists_player[['goals', 'assists', 'team_title']])"
   ]
  },
  {
   "cell_type": "markdown",
   "id": "f7181d86",
   "metadata": {},
   "source": [
    "Tugas no 8"
   ]
  },
  {
   "cell_type": "code",
   "execution_count": 121,
   "id": "7a31147b",
   "metadata": {},
   "outputs": [
    {
     "name": "stdout",
     "output_type": "stream",
     "text": [
      "team_title\n",
      "Manchester City      77\n",
      "Manchester United    68\n",
      "Tottenham            66\n",
      "Liverpool            64\n",
      "Leicester            64\n",
      "Name: goals, dtype: int64\n"
     ]
    }
   ],
   "source": [
    "team_goals = df_noid.groupby('team_title')['goals'].sum()\n",
    "team_goals_sorted = team_goals.sort_values(ascending=False)\n",
    "top_5_teams_by_goals = team_goals_sorted.head(5)\n",
    "print(top_5_teams_by_goals)"
   ]
  },
  {
   "cell_type": "markdown",
   "id": "c6c90a59",
   "metadata": {},
   "source": [
    "Tugas no 9"
   ]
  },
  {
   "cell_type": "code",
   "execution_count": 122,
   "id": "33a32e88",
   "metadata": {},
   "outputs": [
    {
     "name": "stdout",
     "output_type": "stream",
     "text": [
      "      player_name  goals\n",
      "1   Mohamed Salah     22\n",
      "3   Son Heung-Min     17\n",
      "13     Chris Wood     12\n",
      "28   Riyad Mahrez      9\n",
      "29  Harvey Barnes      9\n"
     ]
    }
   ],
   "source": [
    "df_filtered = df_noid[(df_noid['yellow_cards'] == 0) & (df_noid['red_cards'] == 0)]\n",
    "df_sorted = df_filtered.sort_values(by='goals', ascending=False)\n",
    "print(df_sorted[['player_name', 'goals']].head())\n"
   ]
  }
 ],
 "metadata": {
  "kernelspec": {
   "display_name": "Python 3",
   "language": "python",
   "name": "python3"
  },
  "language_info": {
   "codemirror_mode": {
    "name": "ipython",
    "version": 3
   },
   "file_extension": ".py",
   "mimetype": "text/x-python",
   "name": "python",
   "nbconvert_exporter": "python",
   "pygments_lexer": "ipython3",
   "version": "3.8.8"
  }
 },
 "nbformat": 4,
 "nbformat_minor": 5
}
