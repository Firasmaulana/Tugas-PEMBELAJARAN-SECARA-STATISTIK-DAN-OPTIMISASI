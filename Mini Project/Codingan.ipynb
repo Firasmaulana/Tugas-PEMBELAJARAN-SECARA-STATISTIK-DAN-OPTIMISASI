{
 "cells": [
  {
   "cell_type": "code",
   "execution_count": 587,
   "metadata": {},
   "outputs": [],
   "source": [
    "import pandas as pd\n",
    "from sklearn.model_selection import train_test_split, GridSearchCV\n",
    "from sklearn.preprocessing import StandardScaler, LabelEncoder\n",
    "from sklearn.svm import SVC\n",
    "from sklearn.neighbors import KNeighborsClassifier\n",
    "from sklearn.metrics import accuracy_score, classification_report, confusion_matrix, precision_score, recall_score, f1_score\n",
    "from sklearn.model_selection import KFold\n",
    "from sklearn.model_selection import cross_val_predict\n",
    "import numpy as np\n"
   ]
  },
  {
   "cell_type": "code",
   "execution_count": 588,
   "metadata": {},
   "outputs": [],
   "source": [
    "\n",
    "# Membaca file Excel (.xlsx)\n",
    "df = pd.read_excel(\"CPC5.xlsx\")\n",
    "\n",
    "# Menyimpan DataFrame ke file CSV\n",
    "df.to_csv(\"CPC5.csv\", index=False)"
   ]
  },
  {
   "cell_type": "code",
   "execution_count": 589,
   "metadata": {},
   "outputs": [],
   "source": [
    "# df = pd.read_csv(\"CPC1.csv\")\n",
    "\n",
    "df = df.replace(\",\", \".\", regex=True)\n",
    "df.iloc[:, :-1] = df.iloc[:, :-1].astype(float)"
   ]
  },
  {
   "cell_type": "code",
   "execution_count": 590,
   "metadata": {},
   "outputs": [],
   "source": [
    "df = pd.read_csv('CPC5.csv')"
   ]
  },
  {
   "cell_type": "code",
   "execution_count": 591,
   "metadata": {},
   "outputs": [],
   "source": [
    "label_encoder = LabelEncoder()\n",
    "df['kelas'] = label_encoder.fit_transform(df['kelas'])\n",
    "# print(df)"
   ]
  },
  {
   "cell_type": "code",
   "execution_count": 592,
   "metadata": {},
   "outputs": [],
   "source": [
    "X = df.iloc[:, :-1]  # Fitur\n",
    "y = df.iloc[:, -1]   # Target\n",
    "\n",
    "X_train, X_test, y_train, y_test = train_test_split(X, y, test_size=0.25, random_state=42)\n",
    "\n",
    "# X_train, X_val, y_train, y_val = train_test_split(X_train, y_train, test_size=0.25, random_state=42)\n",
    "\n",
    "scaler = StandardScaler()\n",
    "X_train_scaled = scaler.fit_transform(X_train)\n",
    "# X_val_scaled = scaler.transform(X_val)\n",
    "X_test_scaled = scaler.transform(X_test)"
   ]
  },
  {
   "cell_type": "code",
   "execution_count": 593,
   "metadata": {},
   "outputs": [],
   "source": [
    "svm_classifier = SVC()\n",
    "svm_param_grid = {'C': [0.1, 1, 10, 100], 'gamma': [1, 0.1, 0.01, 0.001], 'kernel': ['rbf']}\n",
    "svm_grid_search = GridSearchCV(svm_classifier, svm_param_grid, cv=10, scoring='accuracy')\n",
    "svm_grid_search.fit(X_train_scaled, y_train)\n",
    "svm_best_params = svm_grid_search.best_params_\n",
    "\n",
    "svm_classifier = SVC(**svm_best_params)\n",
    "svm_classifier.fit(X_train_scaled, y_train)\n",
    "\n",
    "svm_predictions = svm_classifier.predict(X_test_scaled)\n",
    "\n",
    "svm_conf_matrix = confusion_matrix(y_test, svm_predictions)\n",
    "# svm_TN, svm_FP, svm_FN, svm_TP = svm_conf_matrix.ravel() #nyalain ini kalo 2 targetnya\n",
    "svm_TN, svm_FP, svm_FN, svm_TP, _, _, _, _, _ = svm_conf_matrix.ravel() #nyalain kalo 3 targetnya\n"
   ]
  },
  {
   "cell_type": "code",
   "execution_count": 594,
   "metadata": {},
   "outputs": [
    {
     "name": "stdout",
     "output_type": "stream",
     "text": [
      "Classes in y_test: [1 0 2]\n",
      "Classes in svm_predictions: [0 1 2]\n",
      "Missing values in y_test: 0\n",
      "Missing values in svm_predictions: 0\n",
      "Difference in classes between y_test and svm_predictions: set()\n",
      "Confusion Matrix:\n",
      "[[36  9  6]\n",
      " [ 5 37  5]\n",
      " [13  4 10]]\n"
     ]
    }
   ],
   "source": [
    "print(\"Classes in y_test:\", y_test.unique())\n",
    "print(\"Classes in svm_predictions:\", np.unique(svm_predictions))\n",
    "print(\"Missing values in y_test:\", y_test.isnull().sum())\n",
    "print(\"Missing values in svm_predictions:\", pd.Series(svm_predictions).isnull().sum())\n",
    "print(\"Difference in classes between y_test and svm_predictions:\", set(y_test.unique()) - set(np.unique(svm_predictions)))\n",
    "print(\"Confusion Matrix:\")\n",
    "print(confusion_matrix(y_test, svm_predictions))\n",
    "\n",
    "svm_TN = confusion_matrix(y_test, svm_predictions)[0, 0]\n",
    "svm_FP = confusion_matrix(y_test, svm_predictions)[0, 1]\n",
    "svm_FN = confusion_matrix(y_test, svm_predictions)[1, 0]\n",
    "svm_TP = confusion_matrix(y_test, svm_predictions)[1, 1]\n",
    "\n"
   ]
  },
  {
   "cell_type": "code",
   "execution_count": 595,
   "metadata": {},
   "outputs": [],
   "source": [
    "knn_classifier = KNeighborsClassifier()\n",
    "\n",
    "knn_param_grid = {'n_neighbors': [3, 5, 7, 9, 11], 'weights': ['uniform', 'distance']}\n",
    "knn_grid_search = GridSearchCV(knn_classifier, knn_param_grid, cv=10, scoring='accuracy')\n",
    "knn_grid_search.fit(X_train_scaled, y_train)\n",
    "knn_best_params = knn_grid_search.best_params_\n",
    "\n",
    "knn_classifier = KNeighborsClassifier(**knn_best_params)\n",
    "knn_classifier.fit(X_train_scaled, y_train)\n",
    "\n",
    "knn_predictions = knn_classifier.predict(X_test_scaled)\n",
    "\n",
    "knn_conf_matrix = confusion_matrix(y_test, knn_predictions)\n",
    "knn_TN, knn_FP, knn_FN, knn_TP, _, _, _, _, _ = knn_conf_matrix.ravel() #hapus , _, _, _, _, _ kalo 2 targetnya"
   ]
  },
  {
   "cell_type": "code",
   "execution_count": 596,
   "metadata": {},
   "outputs": [],
   "source": [
    "svm_predictions = svm_classifier.predict(X_test_scaled)\n",
    "knn_predictions = knn_classifier.predict(X_test_scaled)\n",
    "\n",
    "svm_accuracy = accuracy_score(y_test, svm_predictions)\n",
    "knn_accuracy = accuracy_score(y_test, knn_predictions)\n",
    "\n",
    "svm_report = classification_report(y_test, svm_predictions, target_names=label_encoder.classes_)\n",
    "knn_report = classification_report(y_test, knn_predictions, target_names=label_encoder.classes_)\n",
    "\n",
    "svm_sensitivity = svm_TP / (svm_TP + svm_FN)\n",
    "svm_specificity = svm_TN / (svm_TN + svm_FP)\n",
    "knn_specificity = knn_TN / (knn_TN + knn_FP)\n",
    "knn_sensitivity = knn_TP / (knn_TP + knn_FN)\n",
    "\n",
    "svm_f1 = f1_score(y_test, svm_predictions, average='weighted')\n",
    "knn_f1 = f1_score(y_test, knn_predictions, average='weighted')\n"
   ]
  },
  {
   "cell_type": "code",
   "execution_count": 597,
   "metadata": {},
   "outputs": [
    {
     "name": "stdout",
     "output_type": "stream",
     "text": [
      "Akurasi Klasifikasi SVM: 0.664\n",
      "Sensitivity SVM: 0.8809523809523809\n",
      "Specificity SVM: 0.8\n",
      "F1-Score Klasifikasi SVM: 0.6566167893961709\n",
      "Akurasi Klasifikasi K-NN: 0.64\n",
      "Specificity K-NN: 0.8260869565217391\n",
      "Sensitivity K-NN: 0.5454545454545454\n",
      "F1-Score Klasifikasi K-NN: 0.6307963097232292\n"
     ]
    }
   ],
   "source": [
    "print(\"Akurasi Klasifikasi SVM:\", svm_accuracy)\n",
    "print(\"Sensitivity SVM:\", svm_sensitivity)\n",
    "print(\"Specificity SVM:\", svm_specificity)\n",
    "print(\"F1-Score Klasifikasi SVM:\", svm_f1)\n",
    "print(\"Akurasi Klasifikasi K-NN:\", knn_accuracy)\n",
    "\n",
    "#print(\"\\nLaporan Klasifikasi SVM:\")\n",
    "#print(svm_report)\n",
    "\n",
    "#print(\"\\nLaporan Klasifikasi K-NN:\")\n",
    "#print(knn_report)\n",
    "print(\"Specificity K-NN:\", knn_specificity)\n",
    "print(\"Sensitivity K-NN:\", knn_sensitivity)\n",
    "print(\"F1-Score Klasifikasi K-NN:\", knn_f1)\n"
   ]
  },
  {
   "cell_type": "markdown",
   "metadata": {},
   "source": [
    "# Validasi"
   ]
  },
  {
   "cell_type": "code",
   "execution_count": 598,
   "metadata": {},
   "outputs": [],
   "source": [
    "X = df.iloc[:, :-1]  # Fitur\n",
    "y = df.iloc[:, -1]   # Target\n",
    "\n",
    "X_train, X_temp, y_train, y_temp = train_test_split(X, y, test_size=0.5, random_state=42)\n",
    "\n",
    "X_val, X_test, y_val, y_test = train_test_split(X_temp, y_temp, test_size=0.5, random_state=42)\n",
    "\n",
    "scaler = StandardScaler()\n",
    "X_train_scaled = scaler.fit_transform(X_train)\n",
    "X_val_scaled = scaler.transform(X_val)\n",
    "X_test_scaled = scaler.transform(X_test)"
   ]
  },
  {
   "cell_type": "code",
   "execution_count": 599,
   "metadata": {},
   "outputs": [],
   "source": [
    "# Evaluasi model\n",
    "svm_predictions = svm_classifier.predict(X_val_scaled)\n",
    "knn_predictions = knn_classifier.predict(X_val_scaled)\n",
    "\n",
    "svm_accuracy = accuracy_score(y_val, svm_predictions)\n",
    "knn_accuracy = accuracy_score(y_val, knn_predictions)\n",
    "\n",
    "svm_report = classification_report(y_val, svm_predictions, target_names=label_encoder.classes_)\n",
    "knn_report = classification_report(y_val, knn_predictions, target_names=label_encoder.classes_)\n",
    "\n",
    "svm_sensitivity = svm_TP / (svm_TP + svm_FN)\n",
    "svm_specificity = svm_TN / (svm_TN + svm_FP)\n",
    "knn_specificity = knn_TN / (knn_TN + knn_FP)\n",
    "knn_sensitivity = knn_TP / (knn_TP + knn_FN)\n",
    "svm_f1 = f1_score(y_test, svm_predictions, average='weighted')\n",
    "knn_f1 = f1_score(y_test, knn_predictions, average='weighted')\n"
   ]
  },
  {
   "cell_type": "code",
   "execution_count": 600,
   "metadata": {},
   "outputs": [],
   "source": [
    "svm_accuracy = accuracy_score(y_val, svm_predictions)\n",
    "knn_accuracy = accuracy_score(y_val, knn_predictions)\n",
    "\n",
    "svm_report = classification_report(y_val, svm_predictions, target_names=label_encoder.classes_)\n",
    "knn_report = classification_report(y_val, knn_predictions, target_names=label_encoder.classes_)\n"
   ]
  },
  {
   "cell_type": "code",
   "execution_count": 601,
   "metadata": {},
   "outputs": [
    {
     "name": "stdout",
     "output_type": "stream",
     "text": [
      "Akurasi Klasifikasi SVM: 0.816\n",
      "Sensitivity SVM: 0.8809523809523809\n",
      "Specificity SVM: 0.8\n",
      "F1-Score Klasifikasi SVM: 0.43063654776024085\n",
      "Akurasi Klasifikasi K-NN: 0.8\n",
      "Specificity K-NN: 0.8260869565217391\n",
      "Sensitivity K-NN: 0.5454545454545454\n",
      "F1-Score Klasifikasi K-NN: 0.4644229519963293\n"
     ]
    }
   ],
   "source": [
    "print(\"Akurasi Klasifikasi SVM:\", svm_accuracy)\n",
    "print(\"Sensitivity SVM:\", svm_sensitivity)\n",
    "print(\"Specificity SVM:\", svm_specificity)\n",
    "print(\"F1-Score Klasifikasi SVM:\", svm_f1)\n",
    "print(\"Akurasi Klasifikasi K-NN:\", knn_accuracy)\n",
    "\n",
    "#print(\"\\nLaporan Klasifikasi SVM:\")\n",
    "#print(svm_report)\n",
    "\n",
    "#print(\"\\nLaporan Klasifikasi K-NN:\")\n",
    "#print(knn_report)\n",
    "print(\"Specificity K-NN:\", knn_specificity)\n",
    "print(\"Sensitivity K-NN:\", knn_sensitivity)\n",
    "print(\"F1-Score Klasifikasi K-NN:\", knn_f1)\n"
   ]
  },
  {
   "cell_type": "markdown",
   "metadata": {},
   "source": [
    "# 10-fold CV"
   ]
  },
  {
   "cell_type": "code",
   "execution_count": 602,
   "metadata": {},
   "outputs": [],
   "source": [
    "kf = KFold(n_splits=10, shuffle=True, random_state=42)\n",
    "\n",
    "svm_accuracies = []\n",
    "knn_accuracies = []"
   ]
  },
  {
   "cell_type": "code",
   "execution_count": 603,
   "metadata": {},
   "outputs": [],
   "source": [
    "# Inisialisasi model SVM dan K-NN\n",
    "svm_classifier = SVC(**svm_best_params)\n",
    "knn_classifier = KNeighborsClassifier(**knn_best_params)\n",
    "\n",
    "# Inisialisasi skalar untuk penskalaan fitur\n",
    "scaler = StandardScaler()\n",
    "\n",
    "# Penskalaan fitur\n",
    "X_scaled = scaler.fit_transform(X)"
   ]
  },
  {
   "cell_type": "code",
   "execution_count": 604,
   "metadata": {},
   "outputs": [],
   "source": [
    "# Mengukur performa SVM dengan 10-fold cross-validation\n",
    "svm_predictions = cross_val_predict(svm_classifier, X_scaled, y, cv=10)\n",
    "svm_accuracy = accuracy_score(y, svm_predictions)\n",
    "svm_precision = precision_score(y, svm_predictions, average='weighted')\n",
    "svm_recall = recall_score(y, svm_predictions, average='weighted')\n",
    "svm_f1 = f1_score(y, svm_predictions, average='weighted')"
   ]
  },
  {
   "cell_type": "code",
   "execution_count": 605,
   "metadata": {},
   "outputs": [],
   "source": [
    "# Menghitung confusion matrix untuk SVM\n",
    "svm_conf_matrix = confusion_matrix(y, svm_predictions)\n",
    "svm_TN, svm_FP, svm_FN, svm_TP, _, _, _, _, _ = svm_conf_matrix.ravel() #hapus , _, _, _, _, _ kalo 2 targetnya\n",
    "svm_specificity = svm_TN / (svm_TN + svm_FP)"
   ]
  },
  {
   "cell_type": "code",
   "execution_count": 606,
   "metadata": {},
   "outputs": [],
   "source": [
    "# Mengukur performa K-NN dengan 10-fold cross-validation\n",
    "knn_predictions = cross_val_predict(knn_classifier, X_scaled, y, cv=10)\n",
    "knn_accuracy = accuracy_score(y, knn_predictions)\n",
    "knn_precision = precision_score(y, knn_predictions, average='weighted')\n",
    "knn_recall = recall_score(y, knn_predictions, average='weighted')\n",
    "knn_f1 = f1_score(y, knn_predictions, average='weighted')"
   ]
  },
  {
   "cell_type": "code",
   "execution_count": 607,
   "metadata": {},
   "outputs": [],
   "source": [
    "# Menghitung confusion matrix untuk K-NN\n",
    "knn_conf_matrix = confusion_matrix(y, knn_predictions)\n",
    "knn_TN, knn_FP, knn_FN, knn_TP, _, _, _, _, _ = knn_conf_matrix.ravel() #hapus , _, _, _, _, _ kalo 2 targetnya\n",
    "knn_specificity = knn_TN / (knn_TN + knn_FP)"
   ]
  },
  {
   "cell_type": "code",
   "execution_count": 608,
   "metadata": {},
   "outputs": [
    {
     "name": "stdout",
     "output_type": "stream",
     "text": [
      "SVM Metrics (10-fold CV):\n",
      "Accuracy: 0.748\n",
      "Sensitivity (Recall): 0.748\n",
      "Specificity: 0.8044692737430168\n",
      "Precision: 0.7411632253687023\n",
      "F1-Score: 0.7408155086491023\n",
      "\n",
      "K-NN Metrics (10-fold CV):\n",
      "Accuracy: 0.726\n",
      "Sensitivity (Recall): 0.726\n",
      "Specificity: 0.8324324324324325\n",
      "Precision: 0.7197890330578768\n",
      "F1-Score: 0.7187307078642128\n"
     ]
    }
   ],
   "source": [
    "# Menampilkan hasil\n",
    "print(\"SVM Metrics (10-fold CV):\")\n",
    "print(\"Accuracy:\", svm_accuracy)\n",
    "print(\"Sensitivity (Recall):\", svm_recall)\n",
    "print(\"Specificity:\", svm_specificity)\n",
    "print(\"Precision:\", svm_precision)\n",
    "print(\"F1-Score:\", svm_f1)\n",
    "\n",
    "print(\"\\nK-NN Metrics (10-fold CV):\")\n",
    "print(\"Accuracy:\", knn_accuracy)\n",
    "print(\"Sensitivity (Recall):\", knn_recall)\n",
    "print(\"Specificity:\", knn_specificity)\n",
    "print(\"Precision:\", knn_precision)\n",
    "print(\"F1-Score:\", knn_f1)"
   ]
  }
 ],
 "metadata": {
  "kernelspec": {
   "display_name": "base",
   "language": "python",
   "name": "python3"
  },
  "language_info": {
   "codemirror_mode": {
    "name": "ipython",
    "version": 3
   },
   "file_extension": ".py",
   "mimetype": "text/x-python",
   "name": "python",
   "nbconvert_exporter": "python",
   "pygments_lexer": "ipython3",
   "version": "3.11.7"
  }
 },
 "nbformat": 4,
 "nbformat_minor": 2
}
